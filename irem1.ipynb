{
  "nbformat": 4,
  "nbformat_minor": 0,
  "metadata": {
    "colab": {
      "provenance": []
    },
    "kernelspec": {
      "name": "python3",
      "display_name": "Python 3"
    },
    "language_info": {
      "name": "python"
    }
  },
  "cells": [
    {
      "cell_type": "code",
      "execution_count": 1,
      "metadata": {
        "id": "nzkPrsHU2hAx"
      },
      "outputs": [],
      "source": [
        "import pandas as pd"
      ]
    },
    {
      "cell_type": "code",
      "source": [
        "df = pd.read_csv(\"https://raw.githubusercontent.com/ihpar/ddi/main/LAB2%20-%20TF-IDF/filmler_clean.csv\")"
      ],
      "metadata": {
        "id": "R75gpI6x2mjH"
      },
      "execution_count": 2,
      "outputs": []
    },
    {
      "cell_type": "code",
      "source": [
        "df.head()"
      ],
      "metadata": {
        "colab": {
          "base_uri": "https://localhost:8080/",
          "height": 354
        },
        "id": "sJmnIYGM2m1X",
        "outputId": "47cb595e-13d8-418a-f4cf-207958319b76"
      },
      "execution_count": 3,
      "outputs": [
        {
          "output_type": "execute_result",
          "data": {
            "text/plain": [
              "                                      film adi  \\\n",
              "0                                       Bergen   \n",
              "1                                Kirpi Sonic 2   \n",
              "2  Fantastik Canavarlar: Dumbledore'un Sırları   \n",
              "3                               Aykut Enişte 2   \n",
              "4                                      Morbius   \n",
              "\n",
              "                                    ozet ve detaylar  \\\n",
              "0  Arabeskin unutulmayan kadın seslerinden biri o...   \n",
              "1  Çocuk filmi \\n\\n\\nKirpi Sonic filminin devam h...   \n",
              "2  Karanlık büyücü Gellert Grindelwald, büyücülük...   \n",
              "3  Aykut Enişte 2, sevdiği kadınla evlilik arifes...   \n",
              "4  Morbius, hastalığına deva bulmaya çalışırken b...   \n",
              "\n",
              "                                  tur  \\\n",
              "0              ['Dram', 'Biyografik']   \n",
              "1     ['Animasyon', 'Aile', 'Macera']   \n",
              "2             ['Fantastik', 'Macera']   \n",
              "3                          ['Komedi']   \n",
              "4  ['Aksiyon', 'Fantastik', 'Macera']   \n",
              "\n",
              "                                           oyuncular  \\\n",
              "0  ['Farah Zeynep Abdullah', 'Erdal Beşikçioğlu',...   \n",
              "1              ['Jim Carrey', 'James Marsden', None]   \n",
              "2   ['Eddie Redmayne', 'Jude Law', 'Mads Mikkelsen']   \n",
              "3  ['Cem Gelinoğlu', 'Melis Babadağ', 'Hakan Yılm...   \n",
              "4  ['Jared Leto', 'Matt Smith (XI)', 'Adria Arjona']   \n",
              "\n",
              "                          yonetmen  vizyon tarihi     sure  \\\n",
              "0  ['Mehmet Binay', 'Caner Alper']    4 Mart 2022  2s 26dk   \n",
              "1                  ['Jeff Fowler']   8 Nisan 2022   2s 2dk   \n",
              "2                  ['David Yates']  15 Nisan 2022  2s 22dk   \n",
              "3                ['Onur Bilgetay']  3 Aralık 2021  1s 55dk   \n",
              "4              ['Daniel Espinosa']   1 Nisan 2022  1s 45dk   \n",
              "\n",
              "                                               clean  \n",
              "0  arabesk unutmak kadın ses o Bergen inmek hayat...  \n",
              "1  çocuk film kirpi Sonic film deva halka o yapım...  \n",
              "2  Karanlık büyü Gellert Grindelwald büyü Dünya k...  \n",
              "3  Aykut enişte 2 sevmek kadın ev arife kendi tür...  \n",
              "4  Morbius hastalık deva bulmak Çalışır bambaşka ...  "
            ],
            "text/html": [
              "\n",
              "  <div id=\"df-48727440-b1d9-416a-a309-f670b56cc187\">\n",
              "    <div class=\"colab-df-container\">\n",
              "      <div>\n",
              "<style scoped>\n",
              "    .dataframe tbody tr th:only-of-type {\n",
              "        vertical-align: middle;\n",
              "    }\n",
              "\n",
              "    .dataframe tbody tr th {\n",
              "        vertical-align: top;\n",
              "    }\n",
              "\n",
              "    .dataframe thead th {\n",
              "        text-align: right;\n",
              "    }\n",
              "</style>\n",
              "<table border=\"1\" class=\"dataframe\">\n",
              "  <thead>\n",
              "    <tr style=\"text-align: right;\">\n",
              "      <th></th>\n",
              "      <th>film adi</th>\n",
              "      <th>ozet ve detaylar</th>\n",
              "      <th>tur</th>\n",
              "      <th>oyuncular</th>\n",
              "      <th>yonetmen</th>\n",
              "      <th>vizyon tarihi</th>\n",
              "      <th>sure</th>\n",
              "      <th>clean</th>\n",
              "    </tr>\n",
              "  </thead>\n",
              "  <tbody>\n",
              "    <tr>\n",
              "      <th>0</th>\n",
              "      <td>Bergen</td>\n",
              "      <td>Arabeskin unutulmayan kadın seslerinden biri o...</td>\n",
              "      <td>['Dram', 'Biyografik']</td>\n",
              "      <td>['Farah Zeynep Abdullah', 'Erdal Beşikçioğlu',...</td>\n",
              "      <td>['Mehmet Binay', 'Caner Alper']</td>\n",
              "      <td>4 Mart 2022</td>\n",
              "      <td>2s 26dk</td>\n",
              "      <td>arabesk unutmak kadın ses o Bergen inmek hayat...</td>\n",
              "    </tr>\n",
              "    <tr>\n",
              "      <th>1</th>\n",
              "      <td>Kirpi Sonic 2</td>\n",
              "      <td>Çocuk filmi \\n\\n\\nKirpi Sonic filminin devam h...</td>\n",
              "      <td>['Animasyon', 'Aile', 'Macera']</td>\n",
              "      <td>['Jim Carrey', 'James Marsden', None]</td>\n",
              "      <td>['Jeff Fowler']</td>\n",
              "      <td>8 Nisan 2022</td>\n",
              "      <td>2s 2dk</td>\n",
              "      <td>çocuk film kirpi Sonic film deva halka o yapım...</td>\n",
              "    </tr>\n",
              "    <tr>\n",
              "      <th>2</th>\n",
              "      <td>Fantastik Canavarlar: Dumbledore'un Sırları</td>\n",
              "      <td>Karanlık büyücü Gellert Grindelwald, büyücülük...</td>\n",
              "      <td>['Fantastik', 'Macera']</td>\n",
              "      <td>['Eddie Redmayne', 'Jude Law', 'Mads Mikkelsen']</td>\n",
              "      <td>['David Yates']</td>\n",
              "      <td>15 Nisan 2022</td>\n",
              "      <td>2s 22dk</td>\n",
              "      <td>Karanlık büyü Gellert Grindelwald büyü Dünya k...</td>\n",
              "    </tr>\n",
              "    <tr>\n",
              "      <th>3</th>\n",
              "      <td>Aykut Enişte 2</td>\n",
              "      <td>Aykut Enişte 2, sevdiği kadınla evlilik arifes...</td>\n",
              "      <td>['Komedi']</td>\n",
              "      <td>['Cem Gelinoğlu', 'Melis Babadağ', 'Hakan Yılm...</td>\n",
              "      <td>['Onur Bilgetay']</td>\n",
              "      <td>3 Aralık 2021</td>\n",
              "      <td>1s 55dk</td>\n",
              "      <td>Aykut enişte 2 sevmek kadın ev arife kendi tür...</td>\n",
              "    </tr>\n",
              "    <tr>\n",
              "      <th>4</th>\n",
              "      <td>Morbius</td>\n",
              "      <td>Morbius, hastalığına deva bulmaya çalışırken b...</td>\n",
              "      <td>['Aksiyon', 'Fantastik', 'Macera']</td>\n",
              "      <td>['Jared Leto', 'Matt Smith (XI)', 'Adria Arjona']</td>\n",
              "      <td>['Daniel Espinosa']</td>\n",
              "      <td>1 Nisan 2022</td>\n",
              "      <td>1s 45dk</td>\n",
              "      <td>Morbius hastalık deva bulmak Çalışır bambaşka ...</td>\n",
              "    </tr>\n",
              "  </tbody>\n",
              "</table>\n",
              "</div>\n",
              "      <button class=\"colab-df-convert\" onclick=\"convertToInteractive('df-48727440-b1d9-416a-a309-f670b56cc187')\"\n",
              "              title=\"Convert this dataframe to an interactive table.\"\n",
              "              style=\"display:none;\">\n",
              "        \n",
              "  <svg xmlns=\"http://www.w3.org/2000/svg\" height=\"24px\"viewBox=\"0 0 24 24\"\n",
              "       width=\"24px\">\n",
              "    <path d=\"M0 0h24v24H0V0z\" fill=\"none\"/>\n",
              "    <path d=\"M18.56 5.44l.94 2.06.94-2.06 2.06-.94-2.06-.94-.94-2.06-.94 2.06-2.06.94zm-11 1L8.5 8.5l.94-2.06 2.06-.94-2.06-.94L8.5 2.5l-.94 2.06-2.06.94zm10 10l.94 2.06.94-2.06 2.06-.94-2.06-.94-.94-2.06-.94 2.06-2.06.94z\"/><path d=\"M17.41 7.96l-1.37-1.37c-.4-.4-.92-.59-1.43-.59-.52 0-1.04.2-1.43.59L10.3 9.45l-7.72 7.72c-.78.78-.78 2.05 0 2.83L4 21.41c.39.39.9.59 1.41.59.51 0 1.02-.2 1.41-.59l7.78-7.78 2.81-2.81c.8-.78.8-2.07 0-2.86zM5.41 20L4 18.59l7.72-7.72 1.47 1.35L5.41 20z\"/>\n",
              "  </svg>\n",
              "      </button>\n",
              "      \n",
              "  <style>\n",
              "    .colab-df-container {\n",
              "      display:flex;\n",
              "      flex-wrap:wrap;\n",
              "      gap: 12px;\n",
              "    }\n",
              "\n",
              "    .colab-df-convert {\n",
              "      background-color: #E8F0FE;\n",
              "      border: none;\n",
              "      border-radius: 50%;\n",
              "      cursor: pointer;\n",
              "      display: none;\n",
              "      fill: #1967D2;\n",
              "      height: 32px;\n",
              "      padding: 0 0 0 0;\n",
              "      width: 32px;\n",
              "    }\n",
              "\n",
              "    .colab-df-convert:hover {\n",
              "      background-color: #E2EBFA;\n",
              "      box-shadow: 0px 1px 2px rgba(60, 64, 67, 0.3), 0px 1px 3px 1px rgba(60, 64, 67, 0.15);\n",
              "      fill: #174EA6;\n",
              "    }\n",
              "\n",
              "    [theme=dark] .colab-df-convert {\n",
              "      background-color: #3B4455;\n",
              "      fill: #D2E3FC;\n",
              "    }\n",
              "\n",
              "    [theme=dark] .colab-df-convert:hover {\n",
              "      background-color: #434B5C;\n",
              "      box-shadow: 0px 1px 3px 1px rgba(0, 0, 0, 0.15);\n",
              "      filter: drop-shadow(0px 1px 2px rgba(0, 0, 0, 0.3));\n",
              "      fill: #FFFFFF;\n",
              "    }\n",
              "  </style>\n",
              "\n",
              "      <script>\n",
              "        const buttonEl =\n",
              "          document.querySelector('#df-48727440-b1d9-416a-a309-f670b56cc187 button.colab-df-convert');\n",
              "        buttonEl.style.display =\n",
              "          google.colab.kernel.accessAllowed ? 'block' : 'none';\n",
              "\n",
              "        async function convertToInteractive(key) {\n",
              "          const element = document.querySelector('#df-48727440-b1d9-416a-a309-f670b56cc187');\n",
              "          const dataTable =\n",
              "            await google.colab.kernel.invokeFunction('convertToInteractive',\n",
              "                                                     [key], {});\n",
              "          if (!dataTable) return;\n",
              "\n",
              "          const docLinkHtml = 'Like what you see? Visit the ' +\n",
              "            '<a target=\"_blank\" href=https://colab.research.google.com/notebooks/data_table.ipynb>data table notebook</a>'\n",
              "            + ' to learn more about interactive tables.';\n",
              "          element.innerHTML = '';\n",
              "          dataTable['output_type'] = 'display_data';\n",
              "          await google.colab.output.renderOutput(dataTable, element);\n",
              "          const docLink = document.createElement('div');\n",
              "          docLink.innerHTML = docLinkHtml;\n",
              "          element.appendChild(docLink);\n",
              "        }\n",
              "      </script>\n",
              "    </div>\n",
              "  </div>\n",
              "  "
            ]
          },
          "metadata": {},
          "execution_count": 3
        }
      ]
    },
    {
      "cell_type": "code",
      "source": [
        "clean = df[\"clean\"]"
      ],
      "metadata": {
        "id": "dvMd5Hh72oGu"
      },
      "execution_count": 4,
      "outputs": []
    },
    {
      "cell_type": "code",
      "source": [
        "len(clean)"
      ],
      "metadata": {
        "colab": {
          "base_uri": "https://localhost:8080/"
        },
        "id": "rgjyHBKE2pem",
        "outputId": "5b1d11b7-682c-4147-a564-2a90d0bbc9e9"
      },
      "execution_count": 5,
      "outputs": [
        {
          "output_type": "execute_result",
          "data": {
            "text/plain": [
              "5261"
            ]
          },
          "metadata": {},
          "execution_count": 5
        }
      ]
    },
    {
      "cell_type": "code",
      "source": [
        "import numpy as np"
      ],
      "metadata": {
        "id": "qaO3d_cN2qb9"
      },
      "execution_count": 6,
      "outputs": []
    },
    {
      "cell_type": "code",
      "source": [
        "word2idx = {}\n",
        "idx2word = {}"
      ],
      "metadata": {
        "id": "gQ7WGRev2rYG"
      },
      "execution_count": 7,
      "outputs": []
    },
    {
      "cell_type": "code",
      "source": [
        "i = 0\n",
        "for cell in clean:\n",
        "    words = cell.split()\n",
        "    for word in words:\n",
        "        if word in word2idx:\n",
        "            continue\n",
        "        word2idx[word] = i\n",
        "        idx2word[i] = word\n",
        "        i += 1"
      ],
      "metadata": {
        "id": "w8UEo6xv2sy-"
      },
      "execution_count": 8,
      "outputs": []
    },
    {
      "cell_type": "code",
      "source": [
        "film_sayisi = len(clean)\n",
        "vocab_size = len(word2idx)"
      ],
      "metadata": {
        "id": "8-mb3Wic2uQF"
      },
      "execution_count": 9,
      "outputs": []
    },
    {
      "cell_type": "code",
      "source": [
        "filmler = np.zeros((film_sayisi, vocab_size))"
      ],
      "metadata": {
        "id": "uO4P_2kT2wNu"
      },
      "execution_count": 10,
      "outputs": []
    },
    {
      "cell_type": "code",
      "source": [
        "filmler.shape"
      ],
      "metadata": {
        "colab": {
          "base_uri": "https://localhost:8080/"
        },
        "id": "-lWMMR8Q2xOe",
        "outputId": "e146c068-e509-44bf-ecdf-6021f1dbb517"
      },
      "execution_count": 11,
      "outputs": [
        {
          "output_type": "execute_result",
          "data": {
            "text/plain": [
              "(5261, 27754)"
            ]
          },
          "metadata": {},
          "execution_count": 11
        }
      ]
    },
    {
      "cell_type": "code",
      "source": [
        "for i, cell in enumerate(clean):\n",
        "    words = cell.split()\n",
        "    for word in words:\n",
        "        wordIndex = word2idx[word]\n",
        "        filmler[i][wordIndex] += 1"
      ],
      "metadata": {
        "id": "-Xbm0Cwy2yae"
      },
      "execution_count": 12,
      "outputs": []
    },
    {
      "cell_type": "code",
      "source": [
        "doc_frequencies = {}"
      ],
      "metadata": {
        "id": "SlSyhxve2zi2"
      },
      "execution_count": 13,
      "outputs": []
    },
    {
      "cell_type": "code",
      "source": [
        "filmler[7][:10]"
      ],
      "metadata": {
        "colab": {
          "base_uri": "https://localhost:8080/"
        },
        "id": "pgwdDi7Q21YF",
        "outputId": "1742c2b4-b551-45de-f775-8f3ae90d42dc"
      },
      "execution_count": 14,
      "outputs": [
        {
          "output_type": "execute_result",
          "data": {
            "text/plain": [
              "array([0., 0., 0., 0., 2., 0., 1., 2., 0., 0.])"
            ]
          },
          "metadata": {},
          "execution_count": 14
        }
      ]
    },
    {
      "cell_type": "code",
      "source": [
        "for word in word2idx:\n",
        "    doc_count = 0\n",
        "    for film in clean:\n",
        "        if word in film:\n",
        "            doc_count += 1\n",
        "    \n",
        "    doc_frequencies[word] = doc_count"
      ],
      "metadata": {
        "id": "LlTi4mLZ22l9"
      },
      "execution_count": 15,
      "outputs": []
    },
    {
      "cell_type": "code",
      "source": [
        "sorted_frequencies = sorted(doc_frequencies, key=doc_frequencies.get, reverse=True)"
      ],
      "metadata": {
        "id": "IuOZudEN232d"
      },
      "execution_count": 16,
      "outputs": []
    },
    {
      "cell_type": "code",
      "source": [
        "for word in sorted_frequencies[-10:]:\n",
        "    print(word, doc_frequencies[word])"
      ],
      "metadata": {
        "colab": {
          "base_uri": "https://localhost:8080/"
        },
        "id": "wzGevbOg24hG",
        "outputId": "047f946d-9635-4a56-c127-196f3108a1c2"
      },
      "execution_count": 17,
      "outputs": [
        {
          "output_type": "stream",
          "name": "stdout",
          "text": [
            "Daddy 1\n",
            "menü 1\n",
            "hindi 1\n",
            "kaçırıldığında 1\n",
            "labaratuarla 1\n",
            "Labaratuarda 1\n",
            "1621 1\n",
            "Peluchonneau 1\n",
            "şairane 1\n",
            "bitecekmiş 1\n"
          ]
        }
      ]
    },
    {
      "cell_type": "code",
      "source": [
        "filmler_tf_idf = np.zeros((film_sayisi, vocab_size))\n",
        "film_sayisi = len(clean)\n",
        "\n",
        "for i, film in enumerate(filmler):\n",
        "    if i % 1000 == 0:\n",
        "        print(f\"{i} inci film işleniyor...\")\n",
        "    for j, tf in enumerate(film):\n",
        "        idf = 0\n",
        "        if tf > 0:\n",
        "            idf = np.log(film_sayisi / (doc_frequencies[idx2word[j]] + 1)) + 1\n",
        "        tf_idf_score = tf * idf\n",
        "        filmler_tf_idf[i][j] = tf_idf_score"
      ],
      "metadata": {
        "colab": {
          "base_uri": "https://localhost:8080/"
        },
        "id": "ehoLddCm2513",
        "outputId": "63f6abba-4a65-4ea3-d41e-b7c372f9ec1e"
      },
      "execution_count": 18,
      "outputs": [
        {
          "output_type": "stream",
          "name": "stdout",
          "text": [
            "0 inci film işleniyor...\n",
            "1000 inci film işleniyor...\n",
            "2000 inci film işleniyor...\n",
            "3000 inci film işleniyor...\n",
            "4000 inci film işleniyor...\n",
            "5000 inci film işleniyor...\n"
          ]
        }
      ]
    },
    {
      "cell_type": "code",
      "source": [
        "turler = { 'Dram', 'Biyografik', 'Animasyon','Aile','Macera','Fantastik', 'Komedi', 'Aksiyon','Polisiye', 'Gerilim' ,'Biyografik','Bilimkurgu','Romantik','Erotik','Tarihi', 'Korku','Dramatik komedi','Müzik','Savaş filmi','Casusluk','Bollywood','Western','Müzikal','Epik'}\n",
        "len(turler)\n",
        "for k,word2 in enumerate(turler):\n",
        "  print(word2)"
      ],
      "metadata": {
        "colab": {
          "base_uri": "https://localhost:8080/"
        },
        "id": "VH8JUfi5DBDQ",
        "outputId": "0d3652b5-a8ca-450f-d3e0-6cb179ef20fc"
      },
      "execution_count": 19,
      "outputs": [
        {
          "output_type": "stream",
          "name": "stdout",
          "text": [
            "Bollywood\n",
            "Korku\n",
            "Dramatik komedi\n",
            "Epik\n",
            "Gerilim\n",
            "Romantik\n",
            "Animasyon\n",
            "Fantastik\n",
            "Western\n",
            "Aile\n",
            "Casusluk\n",
            "Macera\n",
            "Komedi\n",
            "Müzikal\n",
            "Bilimkurgu\n",
            "Aksiyon\n",
            "Tarihi\n",
            "Müzik\n",
            "Erotik\n",
            "Dram\n",
            "Polisiye\n",
            "Biyografik\n",
            "Savaş filmi\n"
          ]
        }
      ]
    },
    {
      "cell_type": "code",
      "source": [
        "print(filmler_tf_idf[0][160])"
      ],
      "metadata": {
        "colab": {
          "base_uri": "https://localhost:8080/"
        },
        "id": "Sv5fwe0Qoick",
        "outputId": "5d856240-e6cd-4586-89af-41e606d07408"
      },
      "execution_count": 20,
      "outputs": [
        {
          "output_type": "stream",
          "name": "stdout",
          "text": [
            "1.8088889632230116\n"
          ]
        }
      ]
    },
    {
      "cell_type": "code",
      "source": [
        "for j in range(5261):\n",
        "   for i,word1 in enumerate(word2idx):\n",
        "      for k,word2 in enumerate(turler):\n",
        "        if(word2 in word1):\n",
        "          filmler_tf_idf[j][i]=(filmler_tf_idf[j][i])*8"
      ],
      "metadata": {
        "id": "gouFzBQNFrvg"
      },
      "execution_count": 21,
      "outputs": []
    },
    {
      "cell_type": "code",
      "source": [
        "print(filmler_tf_idf[0][160])"
      ],
      "metadata": {
        "colab": {
          "base_uri": "https://localhost:8080/"
        },
        "id": "HCn7lEx47RX0",
        "outputId": "7f616fe5-e80b-4875-df53-99dbf9d3c472"
      },
      "execution_count": 22,
      "outputs": [
        {
          "output_type": "stream",
          "name": "stdout",
          "text": [
            "14.471111705784093\n"
          ]
        }
      ]
    },
    {
      "cell_type": "code",
      "source": [
        "def cos_sim(v1, v2):\n",
        "    return np.dot(v1, v2) / (np.linalg.norm(v1) * np.linalg.norm(v2))"
      ],
      "metadata": {
        "id": "iO06rYIH3AhG"
      },
      "execution_count": 23,
      "outputs": []
    },
    {
      "cell_type": "code",
      "source": [
        "def film_2_str(row_index):\n",
        "    film = df.iloc[row_index]\n",
        "    adi = film['film adi']\n",
        "    turu = film['tur']\n",
        "    ozet = film['ozet ve detaylar']\n",
        "    if len(ozet) > 150:\n",
        "        ozet = ozet[:150] + \"...\"\n",
        "\n",
        "    return f\"Film adı: {adi} \\nTürü: {turu} \\nÖzeti: {ozet}\""
      ],
      "metadata": {
        "id": "jTnv5daK3A0e"
      },
      "execution_count": 24,
      "outputs": []
    },
    {
      "cell_type": "code",
      "source": [
        "def most_similar_films(film_adi, benzer_film_sayisi):\n",
        "    film_indexi = df[df[\"film adi\"] == film_adi].index[0]\n",
        "    print(film_indexi)\n",
        "    print(\"Aranan Film:\")\n",
        "    print(film_2_str(film_indexi))\n",
        "    print()\n",
        "    print(\"* \" * 30)\n",
        "    print()\n",
        "\n",
        "    benzerlikler = []\n",
        "    sorgu_film = filmler_tf_idf[film_indexi]\n",
        "    print(sorgu_film)\n",
        "  \n",
        "    for vec in filmler_tf_idf:\n",
        "        benzerlik = cos_sim(sorgu_film, vec)\n",
        "        benzerlikler.append(benzerlik)\n",
        "    \n",
        "    en_benzer_film_indexleri = (- np.array(benzerlikler)).argsort()[:benzer_film_sayisi + 1]\n",
        "    print(\"Benzer Filmler:\\n\")\n",
        "    for i, film_idx in enumerate(en_benzer_film_indexleri[1:]):\n",
        "        print(str(i+1) + \") \" + film_2_str(film_idx))\n",
        "        print()\n",
        "        print(\"- \" * 20)\n",
        "        print()"
      ],
      "metadata": {
        "id": "_Lo1o-Qx3Vr8"
      },
      "execution_count": 25,
      "outputs": []
    },
    {
      "cell_type": "code",
      "source": [
        "most_similar_films(\"Matrix\", 5)"
      ],
      "metadata": {
        "colab": {
          "base_uri": "https://localhost:8080/"
        },
        "id": "xgzZUe663Yne",
        "outputId": "f48523eb-ab1c-43e1-83eb-0d8431515fec"
      },
      "execution_count": 26,
      "outputs": [
        {
          "output_type": "stream",
          "name": "stdout",
          "text": [
            "323\n",
            "Aranan Film:\n",
            "Film adı: Matrix \n",
            "Türü: ['Aksiyon', 'Bilimkurgu'] \n",
            "Özeti: Bir yaşanan gerçek vardır, bir de yaşananın ötesinde olan gerçeklik... Biri rüya, diğeri ise Matrix! Neo,son derece tehlikeli bir adam olan Morpheus’u...\n",
            "\n",
            "* * * * * * * * * * * * * * * * * * * * * * * * * * * * * * \n",
            "\n",
            "[0. 0. 0. ... 0. 0. 0.]\n",
            "Benzer Filmler:\n",
            "\n",
            "1) Film adı: Matrix Resurrections \n",
            "Türü: ['Bilimkurgu', 'Aksiyon'] \n",
            "Özeti: Matrix Resurrections”la çifte gerçeklik dünyasına geri dönülüyor. Bay Anderson yeniden beyaz tavşanı izlemeyi seçmek zorunda kalır. Çünkü Anderson ger...\n",
            "\n",
            "- - - - - - - - - - - - - - - - - - - - \n",
            "\n",
            "2) Film adı: Matrix Reloaded \n",
            "Türü: ['Bilimkurgu', 'Aksiyon'] \n",
            "Özeti: Neo kendisini ajanların ve makinelerin ellerinden kurtarmayı başarmıştır. Ancak makineler insanların elde kalan son şehri olan Zion'u bulma konusunda ...\n",
            "\n",
            "- - - - - - - - - - - - - - - - - - - - \n",
            "\n",
            "3) Film adı: Matrix Revolutions \n",
            "Türü: ['Bilimkurgu', 'Aksiyon'] \n",
            "Özeti: Makineler Zion'a ulaşmak için kazmaktadırlar. Ajan Smith ise kendi bağımsızlığını ilan ederek hem insanları hem de makineleri karşısına almıştır. Neo'...\n",
            "\n",
            "- - - - - - - - - - - - - - - - - - - - \n",
            "\n",
            "4) Film adı: The World's End \n",
            "Türü: ['Aksiyon', 'Komedi', 'Bilimkurgu'] \n",
            "Özeti: 20 yıl aradan sonra tekrar bir araya gelen 5 eski arkadaş, Dünya'nın sonunu getirmeye kararlıdır...\n",
            "\n",
            "- - - - - - - - - - - - - - - - - - - - \n",
            "\n",
            "5) Film adı: The World's End \n",
            "Türü: ['Aksiyon', 'Komedi', 'Bilimkurgu'] \n",
            "Özeti: 20 yıl aradan sonra tekrar bir araya gelen 5 eski arkadaş, Dünya'nın sonunu getirmeye kararlıdır...\n",
            "\n",
            "- - - - - - - - - - - - - - - - - - - - \n",
            "\n"
          ]
        }
      ]
    }
  ]
}